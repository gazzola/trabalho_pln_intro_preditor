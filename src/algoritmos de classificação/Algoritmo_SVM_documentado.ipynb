{
 "cells": [
  {
   "cell_type": "code",
   "execution_count": 133,
   "metadata": {},
   "outputs": [],
   "source": [
    "from sklearn.feature_extraction.text import CountVectorizer"
   ]
  },
  {
   "cell_type": "code",
   "execution_count": 134,
   "metadata": {},
   "outputs": [],
   "source": [
    "from sklearn.feature_extraction.text import TfidfTransformer"
   ]
  },
  {
   "cell_type": "code",
   "execution_count": 135,
   "metadata": {},
   "outputs": [],
   "source": [
    "from sklearn.naive_bayes import MultinomialNB"
   ]
  },
  {
   "cell_type": "code",
   "execution_count": 136,
   "metadata": {},
   "outputs": [],
   "source": [
    "import numpy as np"
   ]
  },
  {
   "cell_type": "code",
   "execution_count": 137,
   "metadata": {},
   "outputs": [],
   "source": [
    "from sklearn.linear_model import SGDClassifier"
   ]
  },
  {
   "cell_type": "code",
   "execution_count": 138,
   "metadata": {},
   "outputs": [],
   "source": [
    "from sklearn import metrics"
   ]
  },
  {
   "cell_type": "code",
   "execution_count": 139,
   "metadata": {},
   "outputs": [],
   "source": [
    "categories = [    \n",
    "    'ensinofundamental', \n",
    "    'ensinomedio',    \n",
    "]"
   ]
  },
  {
   "cell_type": "code",
   "execution_count": 140,
   "metadata": {},
   "outputs": [
    {
     "name": "stdout",
     "output_type": "stream",
     "text": [
      "367\n"
     ]
    }
   ],
   "source": [
    "corpus = open(\"result.txt\")\n",
    "cont_materiais=0\n",
    "dados_d=[]\n",
    "target=[]\n",
    "linha=corpus.readline()\n",
    "while(linha!=\"\"):\n",
    "\n",
    "    vetor_saida=[]\n",
    "    for i in linha.replace(\"[\",\"\").replace(\"]\",\"\").split(\",\"):\n",
    "        if type(eval(i))==float:\n",
    "            vetor_saida.append(float(i))\n",
    "        elif type(i)==str:\n",
    "            if len(i)==22:\n",
    " #               print \"fundamental\"\n",
    "                #vetor_saida.append(0)\n",
    "                target.append(1)\n",
    "            elif len(i)==16:\n",
    "#                print \"MEDIO\"\n",
    "#                vetor_saida.append(1)\n",
    "                target.append(2)\n",
    "    dados_d.append(vetor_saida)\n",
    "    \n",
    "    cont_materiais+=1\n",
    "#    dados.append(linha)\n",
    "#    dados_d[cont_materiais]=dados\n",
    "    linha=corpus.readline()\n",
    "print cont_materiais\n",
    "    "
   ]
  },
  {
   "cell_type": "code",
   "execution_count": 141,
   "metadata": {},
   "outputs": [
    {
     "data": {
      "text/plain": [
       "367"
      ]
     },
     "execution_count": 141,
     "metadata": {},
     "output_type": "execute_result"
    }
   ],
   "source": [
    "dados_d[0] #64 metricas\n",
    "len(target)"
   ]
  },
  {
   "cell_type": "code",
   "execution_count": 142,
   "metadata": {},
   "outputs": [
    {
     "data": {
      "text/plain": [
       "11"
      ]
     },
     "execution_count": 142,
     "metadata": {},
     "output_type": "execute_result"
    }
   ],
   "source": [
    "len('ensinomedio') #17enf #11enm"
   ]
  },
  {
   "cell_type": "code",
   "execution_count": 143,
   "metadata": {},
   "outputs": [
    {
     "data": {
      "text/plain": [
       "1"
      ]
     },
     "execution_count": 143,
     "metadata": {},
     "output_type": "execute_result"
    }
   ],
   "source": [
    "X = np.array(dados_d)\n",
    "y[0]"
   ]
  },
  {
   "cell_type": "code",
   "execution_count": 108,
   "metadata": {},
   "outputs": [],
   "source": [
    "y = np.array(target)"
   ]
  },
  {
   "cell_type": "code",
   "execution_count": 109,
   "metadata": {},
   "outputs": [
    {
     "data": {
      "text/plain": [
       "array([1, 2, 2, 1, 2, 1, 2, 1, 2, 1, 2, 1, 2, 1, 2, 1, 2, 1, 2, 1, 2, 1, 2,\n",
       "       1, 2, 2, 1, 2, 1, 2, 1, 2, 1, 2, 1, 2, 1, 2, 1, 2, 1, 2, 1, 2, 1, 2,\n",
       "       1, 2, 2, 1, 2, 1, 2, 1, 2, 1, 2, 1, 2, 1, 2, 1, 2, 1, 1, 1, 1, 2, 2,\n",
       "       1, 1, 1, 1, 1, 1, 1, 1, 1, 1, 1, 2, 2, 1, 1, 1, 1, 1, 1, 1, 1, 1, 1,\n",
       "       1, 2, 2, 1, 1, 1, 1, 1, 1, 1, 1, 1, 1, 1, 2, 2, 1, 1, 1, 1, 1, 1, 1,\n",
       "       1, 1, 1, 1, 2, 2, 1, 2, 2, 1, 2, 2, 1, 2, 2, 1, 2, 2, 1, 2, 2, 1, 2,\n",
       "       2, 1, 2, 2, 1, 2, 2, 1, 2, 2, 1, 2, 2, 1, 2, 2, 1, 2, 2, 1, 2, 2, 1,\n",
       "       2, 2, 1, 2, 2, 1, 2, 2, 1, 2, 2, 1, 2, 2, 1, 2, 2, 1, 2, 2, 1, 2, 2,\n",
       "       1, 2, 2, 1, 2, 2, 1, 2, 2, 1, 2, 2, 1, 2, 2, 1, 2, 2, 1, 2, 2, 1, 2,\n",
       "       2, 1, 2, 2, 1, 2, 2, 1, 2, 2, 1, 2, 2, 1, 2, 2, 1, 2, 2, 1, 2, 2, 1,\n",
       "       2, 2, 1, 2, 2, 1, 2, 2, 1, 2, 2, 1, 2, 2, 1, 2, 2, 1, 2, 2, 1, 2, 2,\n",
       "       1, 2, 2, 1, 2, 2, 1, 2, 2, 1, 2, 2, 1, 2, 2, 1, 2, 2, 1, 2, 2, 1, 2,\n",
       "       2, 1, 2, 2, 1, 2, 2, 1, 2, 2, 1, 2, 2, 1, 2, 2, 1, 2, 2, 1, 2, 2, 1,\n",
       "       2, 1, 2, 1, 2, 1, 2, 1, 2, 1, 2, 1, 2, 1, 2, 1, 2, 1, 2, 1, 2, 2, 1,\n",
       "       2, 1, 2, 1, 2, 1, 2, 1, 2, 1, 2, 1, 2, 1, 2, 1, 2, 1, 2, 1, 2, 2, 1,\n",
       "       2, 1, 2, 1, 2, 1, 2, 1, 2, 1, 2, 1, 2, 1, 2, 1, 2, 1, 2, 1, 2, 2])"
      ]
     },
     "execution_count": 109,
     "metadata": {},
     "output_type": "execute_result"
    }
   ],
   "source": [
    "y"
   ]
  },
  {
   "cell_type": "markdown",
   "metadata": {},
   "source": [
    "# Usando  SVM\n",
    "## 99% precisao"
   ]
  },
  {
   "cell_type": "code",
   "execution_count": 144,
   "metadata": {},
   "outputs": [],
   "source": [
    "import sys\n",
    "import os\n",
    "import time\n",
    "\n",
    "from sklearn import svm\n",
    "from sklearn.metrics import classification_report\n"
   ]
  },
  {
   "cell_type": "code",
   "execution_count": 145,
   "metadata": {},
   "outputs": [],
   "source": [
    "import numpy as np\n",
    "from sklearn.model_selection import train_test_split\n",
    "\n",
    "\n",
    "X_train, X_test, y_train, y_test = train_test_split(\n",
    "    dados_d, target, test_size=0.30, random_state=2018)\n"
   ]
  },
  {
   "cell_type": "code",
   "execution_count": 146,
   "metadata": {},
   "outputs": [],
   "source": [
    "#X_train, X_test, y_train, y_test\n",
    "# Perform classification with SVM, kernel=rbf\n",
    "classifier_rbf = svm.SVC()\n",
    "t0 = time.time()\n",
    "classifier_rbf.fit(X_train, y_train)\n",
    "t1 = time.time()\n",
    "prediction_rbf = classifier_rbf.predict(X_test)\n",
    "t2 = time.time()\n",
    "time_rbf_train = t1-t0\n",
    "time_rbf_predict = t2-t1\n",
    "\n",
    "# Perform classification with SVM, kernel=linear\n",
    "classifier_linear = svm.SVC(kernel='linear')\n",
    "t0 = time.time()\n",
    "classifier_linear.fit(X_train, y_train)\n",
    "t1 = time.time()\n",
    "prediction_linear = classifier_linear.predict(X_test)\n",
    "t2 = time.time()\n",
    "time_linear_train = t1-t0\n",
    "time_linear_predict = t2-t1\n"
   ]
  },
  {
   "cell_type": "code",
   "execution_count": 147,
   "metadata": {},
   "outputs": [
    {
     "name": "stdout",
     "output_type": "stream",
     "text": [
      "Results for SVC(kernel=rbf)\n",
      "Training time: 0.010162s; Prediction time: 0.003316s\n",
      "                   precision    recall  f1-score   support\n",
      "\n",
      "ensinofundamental       0.00      0.00      0.00        60\n",
      "      ensinomedio       0.46      1.00      0.63        51\n",
      "\n",
      "      avg / total       0.21      0.46      0.29       111\n",
      "\n",
      "Results for SVC(kernel=linear)\n",
      "Training time: 18.376302s; Prediction time: 0.001824s\n",
      "                   precision    recall  f1-score   support\n",
      "\n",
      "ensinofundamental       0.71      0.33      0.45        60\n",
      "      ensinomedio       0.52      0.84      0.64        51\n",
      "\n",
      "      avg / total       0.62      0.57      0.54       111\n",
      "\n",
      "Results for LinearSVC()\n",
      "Training time: 0.055468s; Prediction time: 0.000508s\n",
      "                   precision    recall  f1-score   support\n",
      "\n",
      "ensinofundamental       0.54      1.00      0.70        60\n",
      "      ensinomedio       0.00      0.00      0.00        51\n",
      "\n",
      "      avg / total       0.29      0.54      0.38       111\n",
      "\n"
     ]
    }
   ],
   "source": [
    "\n",
    "# Perform classification with SVM, kernel=linear\n",
    "classifier_liblinear = svm.LinearSVC()\n",
    "t0 = time.time()\n",
    "classifier_liblinear.fit(X_train, y_train)\n",
    "t1 = time.time()\n",
    "prediction_liblinear = classifier_liblinear.predict(X_test)\n",
    "t2 = time.time()\n",
    "time_liblinear_train = t1-t0\n",
    "time_liblinear_predict = t2-t1\n",
    "\n",
    "# Print results in a nice table\n",
    "print(\"Results for SVC(kernel=rbf)\")\n",
    "print(\"Training time: %fs; Prediction time: %fs\" % (time_rbf_train, time_rbf_predict))\n",
    "print(classification_report(y_test, prediction_rbf, target_names=categories))\n",
    "print(\"Results for SVC(kernel=linear)\")\n",
    "print(\"Training time: %fs; Prediction time: %fs\" % (time_linear_train, time_linear_predict))\n",
    "print(classification_report(y_test, prediction_linear, target_names=categories))\n",
    "print(\"Results for LinearSVC()\")\n",
    "print(\"Training time: %fs; Prediction time: %fs\" % (time_liblinear_train, time_liblinear_predict))\n",
    "print(classification_report(y_test, prediction_liblinear, target_names=categories))"
   ]
  },
  {
   "cell_type": "code",
   "execution_count": 159,
   "metadata": {},
   "outputs": [
    {
     "data": {
      "text/plain": [
       "0.46"
      ]
     },
     "execution_count": 159,
     "metadata": {},
     "output_type": "execute_result"
    }
   ],
   "source": [
    "float(classification_report(y_test, prediction_rbf, target_names=categories).split()[len(classification_report(y_test, prediction_liblinear, target_names=categories).split())-3])"
   ]
  },
  {
   "cell_type": "code",
   "execution_count": 122,
   "metadata": {},
   "outputs": [
    {
     "name": "stdout",
     "output_type": "stream",
     "text": [
      "[[27 12]\n",
      " [12 23]]\n"
     ]
    }
   ],
   "source": [
    "from sklearn import metrics\n",
    "print metrics.confusion_matrix(y_test, prediction_linear)"
   ]
  },
  {
   "cell_type": "markdown",
   "metadata": {},
   "source": [
    "# Predicao\n",
    "## documentos fora do teste e treino"
   ]
  },
  {
   "cell_type": "code",
   "execution_count": 362,
   "metadata": {},
   "outputs": [
    {
     "name": "stdout",
     "output_type": "stream",
     "text": [
      "\n",
      "titulo=¿Flota o se hunde?\n",
      "formatoMat=Experimento prático\n",
      "componente=Componente curricular nao identificado\n",
      "etapas=Educação Infantil\n",
      "descricao=Experimento simples, com a utilização de materiais de baixo custo e de fácil obtenção\n",
      "autorUpload=Desconhecido\n",
      "autorMaterial=Antonio Varela\n",
      "tag=[\"Volume\" \"Gravidade\" \"Densidade\" \"Educação Infantil\" \"Natureza e sociedade\" \"Os fenômenos da natureza\"]\n",
      "formatoComp=application/msword\n",
      "12 Ciencias da Natureza\n",
      "\n",
      "titulo=Heart anatomical structures\n",
      "formatoMat=Animação/simulação\n",
      "componente=Componente curricular nao identificado\n",
      "etapas=Ensino Superior\n",
      "descricao=Basic anatomy knowledge\n",
      "autorUpload=Desconhecido\n",
      "autorMaterial=LearnersTV\n",
      "tag=[\"Vein\" \"Heart\" \"Ventricle\" \"Fisiologia\" \"Educação Superior\" \"Ciências Biológicas\" \"Fisiologia Cardiovascular\"]\n",
      "formatoComp=application/vnd.adobe.flash.movie\n",
      "5 Biologia\n",
      "\n",
      "titulo=Seven wives and seven prisons; Or<VIRGULA> experiences in the life of a matrimonial monomaniac - Chapter 08\n",
      "formatoMat=Áudio\n",
      "componente=Componente curricular nao identificado\n",
      "etapas=Ensino Médio\n",
      "descricao=Is a funny story where the author talks about his seven marriages and experiences with their relationships\n",
      "autorUpload=Desconhecido\n",
      "autorMaterial=Abbott L.A\n",
      "tag=[\"Letras\" \"English\" \"Marriage\" \"Listening\" \"Relationship\" \"Ensino Médio\" \"Produção oral\" \"Educação Básica\" \"Compreensão oral\" \"Língua Estrangeira\" \"Educação Superior\" \"Ensino Fundamental Final\"]\n",
      "formatoComp=audio/mpeg\n",
      "10 Lingua_Inglesa\n",
      "\n",
      "titulo=Short poetry collection 003 - Wild nights\n",
      "formatoMat=Áudio\n",
      "componente=Componente curricular nao identificado\n",
      "etapas=Ensino Médio\n",
      "descricao=Librivox’s Short Poetry Collection 003 is a collection of 20 public-domain poems. Professors or students who want to follow the poetry, by reading, can access the website\n",
      "autorUpload=Desconhecido\n",
      "autorMaterial=Emily Dickinson\n",
      "tag=[\"Letras\" \"Poetry\" \"Literature\" \"Audiobook\" \"Séries Finais\" \"Ensino Médio\" \"Produção oral\" \"Educação Básica\" \"Compreensão oral\" \"Língua Estrangeira\" \"Educação Superior\" \"Ensino Fundamental\"]\n",
      "formatoComp=audio/mpeg\n",
      "6 Lingua_Portuguesa\n",
      "\n",
      "titulo=\"Vinte anos da Constituição: inocência perdida [Câmara informa]\"\n",
      "resumo=Apresenta o cenário da reunião da Constituinte passando por sucessos cinematográficos que ainda sofreram censura no Brasil da época. Relata a extinção da censura no paísBrasil após a promulgação da constituinte. Retrata a ascensão de artistas nacionais da televisão, e o sucesso das telenovelas e programas de humor. Trata dos vazamentos e acidentes radioativos de Chernobyl e Goiânia, além dos destaques na música e na publicidade brasileira.\n",
      "autorUpload=Desconhecido.\n",
      "autorMaterial=TV Câmara\n",
      "tags=[\"Censura\" \"Política pública\" \"Ciência Política\" \"Cultura brasileira\" \"Políticas Públicas\" \"Educação Superior\" \"Ciências Humanas\" \"Meios de comunicação\" \"Atitude e Ideologias Políticas\"]\n",
      "7 Historia\n",
      "\n",
      "titulo=Sinapse 3D\n",
      "formatoMat=Animação/simulação\n",
      "componente=Biologia\n",
      "etapas=Ensino Médio\n",
      "descricao=Apresenta, de forma simplificada, o funcionamento de uma sinapse entre um neurônio e uma célula alvo\n",
      "autorUpload=Desconhecido\n",
      "autorMaterial=Fundação Centro de Ciências e Educação Superior a Distância do Estado do Rio de Janeiro (CECIERJ)\n",
      "tag=[\"Biologia\" \"Ensino Médio\" \"Educação Básica\" \"Identidade dos seres vivos\"]\n",
      "formatoComp=application/zip\n",
      "5 Biologia\n",
      "\n",
      "titulo='[Aulas de Física em Flash] [Aula 1-1] Medições - Introdução'\n",
      "descricao=='Discute as principais diferenças entre ciência e arte. Mostra que <VIRGULA> enquanto as grandezas físicas podem ser mensuradas <VIRGULA> não podemos quantificar objetivamente e de forma reprodutível as sensações pessoais que surgem da observação de uma obra de arte. Destaca que a medição é parte integrante de nossas vidas <VIRGULA> embora nem sempre percebamos <VIRGULA> e indissociável da atividade científica'\n",
      "3 Fisica\n"
     ]
    }
   ],
   "source": [
    "\n",
    "docs_new = ['@titulo=¿Flota o se hunde?@formatoMat=Experimento prático@componente=Componente curricular nao identificado@etapas=Educação Infantil@descricao=Experimento simples, com a utilização de materiais de baixo custo e de fácil obtenção@autorUpload=Desconhecido@autorMaterial=Antonio Varela@tag=[\"Volume\" \"Gravidade\" \"Densidade\" \"Educação Infantil\" \"Natureza e sociedade\" \"Os fenômenos da natureza\"]@formatoComp=application/msword', '@titulo=Heart anatomical structures@formatoMat=Animação/simulação@componente=Componente curricular nao identificado@etapas=Ensino Superior@descricao=Basic anatomy knowledge@autorUpload=Desconhecido@autorMaterial=LearnersTV@tag=[\"Vein\" \"Heart\" \"Ventricle\" \"Fisiologia\" \"Educação Superior\" \"Ciências Biológicas\" \"Fisiologia Cardiovascular\"]@formatoComp=application/vnd.adobe.flash.movie','@titulo=Seven wives and seven prisons; Or<VIRGULA> experiences in the life of a matrimonial monomaniac - Chapter 08@formatoMat=Áudio@componente=Componente curricular nao identificado@etapas=Ensino Médio@descricao=Is a funny story where the author talks about his seven marriages and experiences with their relationships@autorUpload=Desconhecido@autorMaterial=Abbott L.A@tag=[\"Letras\" \"English\" \"Marriage\" \"Listening\" \"Relationship\" \"Ensino Médio\" \"Produção oral\" \"Educação Básica\" \"Compreensão oral\" \"Língua Estrangeira\" \"Educação Superior\" \"Ensino Fundamental Final\"]@formatoComp=audio/mpeg', '@titulo=Short poetry collection 003 - Wild nights@formatoMat=Áudio@componente=Componente curricular nao identificado@etapas=Ensino Médio@descricao=Librivox’s Short Poetry Collection 003 is a collection of 20 public-domain poems. Professors or students who want to follow the poetry, by reading, can access the website@autorUpload=Desconhecido@autorMaterial=Emily Dickinson@tag=[\"Letras\" \"Poetry\" \"Literature\" \"Audiobook\" \"Séries Finais\" \"Ensino Médio\" \"Produção oral\" \"Educação Básica\" \"Compreensão oral\" \"Língua Estrangeira\" \"Educação Superior\" \"Ensino Fundamental\"]@formatoComp=audio/mpeg','@titulo=\"Vinte anos da Constituição: inocência perdida [Câmara informa]\"@resumo=Apresenta o cenário da reunião da Constituinte passando por sucessos cinematográficos que ainda sofreram censura no Brasil da época. Relata a extinção da censura no paísBrasil após a promulgação da constituinte. Retrata a ascensão de artistas nacionais da televisão, e o sucesso das telenovelas e programas de humor. Trata dos vazamentos e acidentes radioativos de Chernobyl e Goiânia, além dos destaques na música e na publicidade brasileira.@autorUpload=Desconhecido.@autorMaterial=TV Câmara@tags=[\"Censura\" \"Política pública\" \"Ciência Política\" \"Cultura brasileira\" \"Políticas Públicas\" \"Educação Superior\" \"Ciências Humanas\" \"Meios de comunicação\" \"Atitude e Ideologias Políticas\"]','@titulo=Sinapse 3D@formatoMat=Animação/simulação@componente=Biologia@etapas=Ensino Médio@descricao=Apresenta, de forma simplificada, o funcionamento de uma sinapse entre um neurônio e uma célula alvo@autorUpload=Desconhecido@autorMaterial=Fundação Centro de Ciências e Educação Superior a Distância do Estado do Rio de Janeiro (CECIERJ)@tag=[\\\"Biologia\\\" \\\"Ensino Médio\\\" \\\"Educação Básica\\\" \\\"Identidade dos seres vivos\\\"]@formatoComp=application/zip',\"@titulo='[Aulas de Física em Flash] [Aula 1-1] Medições - Introdução'@descricao=='Discute as principais diferenças entre ciência e arte. Mostra que <VIRGULA> enquanto as grandezas físicas podem ser mensuradas <VIRGULA> não podemos quantificar objetivamente e de forma reprodutível as sensações pessoais que surgem da observação de uma obra de arte. Destaca que a medição é parte integrante de nossas vidas <VIRGULA> embora nem sempre percebamos <VIRGULA> e indissociável da atividade científica'\"]\n",
    "#X_new_counts = count_vect.transform(docs_new)\n",
    "X_new_tfidf = vectorizer.transform(docs_new)\n",
    "predicted = classifier_liblinear.predict(X_new_tfidf)\n",
    "for doc, category in zip(docs_new, predicted):\n",
    "#    print('%r => %s' % (doc, categories[category]))\n",
    "    for i in doc.split(\"@\"):\n",
    "        print i\n",
    "    print category, categories[category-2]\n",
    "   "
   ]
  },
  {
   "cell_type": "code",
   "execution_count": null,
   "metadata": {},
   "outputs": [],
   "source": [
    "'@titulo=\"Vinte anos da Constituição: inocência perdida [Câmara informa]\"@resumo=Apresenta o cenário da reunião da Constituinte passando por sucessos cinematográficos que ainda sofreram censura no Brasil da época. Relata a extinção da censura no paísBrasil após a promulgação da constituinte. Retrata a ascensão de artistas nacionais da televisão, e o sucesso das telenovelas e programas de humor. Trata dos vazamentos e acidentes radioativos de Chernobyl e Goiânia, além dos destaques na música e na publicidade brasileira.@autorUpload=Desconhecido.@autorMaterial=TV Câmara@tags=[\"Censura\" \"Política pública\" \"Ciência Política\" \"Cultura brasileira\" \"Políticas Públicas\" \"Educação Superior\" \"Ciências Humanas\" \"Meios de comunicação\" \"Atitude e Ideologias Políticas\"]'\n"
   ]
  },
  {
   "cell_type": "markdown",
   "metadata": {},
   "source": [
    "# Cross-Validation\n",
    "## alguns testes e depois o treinamento"
   ]
  },
  {
   "cell_type": "code",
   "execution_count": 206,
   "metadata": {},
   "outputs": [],
   "source": [
    "from sklearn.model_selection import StratifiedKFold\n",
    "kfold = StratifiedKFold(n_splits=10, shuffle=True, random_state=42)"
   ]
  },
  {
   "cell_type": "code",
   "execution_count": 218,
   "metadata": {},
   "outputs": [
    {
     "name": "stdout",
     "output_type": "stream",
     "text": [
      "9805 1097\n",
      "9806 1096\n",
      "9807 1095\n",
      "9810 1092\n",
      "9812 1090\n",
      "9813 1089\n",
      "9814 1088\n",
      "9816 1086\n",
      "9817 1085\n",
      "9818 1084\n"
     ]
    }
   ],
   "source": [
    "#cvscores = []\n",
    "#train_data = X_train\n",
    "#test_data = X_test\n",
    "#train_labels = y_train\n",
    "#test_labels = y_test\n",
    "\n",
    "dados_vec = vectorizer.fit_transform(dados)\n",
    "#test_vectors = vectorizer.transform(test_data)\n",
    "\n",
    "#quantidade de K para rodar #Returns the number of splitting iterations in the cross-validator.\n",
    "#kfold.get_n_splits(dados_vec, rotulo_ind)\n",
    "for train, test in kfold.split(dados, rotulo_ind):\n",
    "    print len(train), len(test)"
   ]
  },
  {
   "cell_type": "code",
   "execution_count": 219,
   "metadata": {},
   "outputs": [
    {
     "name": "stdout",
     "output_type": "stream",
     "text": [
      "9805 1097\n",
      "9806 1096\n",
      "9807 1095\n",
      "9810 1092\n",
      "9812 1090\n",
      "9813 1089\n",
      "9814 1088\n",
      "9816 1086\n",
      "9817 1085\n",
      "9818 1084\n"
     ]
    }
   ],
   "source": [
    "#kfold.get_n_splits(dados_vec, rotulo_ind)\n",
    "for train, test in kfold.split(dados_vec, rotulo_ind):\n",
    "    print len(train), len(test)"
   ]
  },
  {
   "cell_type": "code",
   "execution_count": 273,
   "metadata": {},
   "outputs": [],
   "source": [
    "from sklearn.metrics import accuracy_score\n",
    "\n",
    "\n",
    "# Read the data\n",
    "#train_data = dados\n",
    "#train_labels = rotulo_ind"
   ]
  },
  {
   "cell_type": "code",
   "execution_count": 287,
   "metadata": {},
   "outputs": [],
   "source": [
    "####teste\n",
    "dados_np=np.array(dados)\n",
    "#type(dados_np)\n",
    "#for train_index, test_index in kfold.split(dados_np, rotulo_ind):\n",
    "#    print dados_np[train_index]"
   ]
  },
  {
   "cell_type": "code",
   "execution_count": 289,
   "metadata": {},
   "outputs": [],
   "source": [
    "rotulos_ind_np=np.array(rotulo_ind)"
   ]
  },
  {
   "cell_type": "code",
   "execution_count": null,
   "metadata": {},
   "outputs": [],
   "source": [
    "cvscores = []\n",
    "# Create feature vectors\n",
    "vectorizer = TfidfVectorizer(min_df=5,\n",
    "                             max_df = 0.8,\n",
    "                             sublinear_tf=True,\n",
    "                             use_idf=True)\n",
    "\n",
    "\n",
    "for train_index, test_index in kfold.split(dados_np, rotulo_ind):\n",
    "    train_vectors = vectorizer.fit_transform(dados_np[train_index])\n",
    "    test_vectors = vectorizer.transform(dados_np[test_index])\n",
    "\n",
    "    \n",
    "    # Perform classification with SVM, kernel=rbf\n",
    "    classifier_rbf = svm.SVC()\n",
    "    classifier_rbf.fit(train_vectors, rotulos_ind_np[train_index])\n",
    "    prediction_rbf = classifier_rbf.predict(test_vectors)\n",
    "    \n",
    "    # Perform classification with SVM, kernel=linear\n",
    "    classifier_linear = svm.SVC(kernel='linear')\n",
    "    classifier_linear.fit(train_vectors, rotulos_ind_np[train_index])\n",
    "    prediction_linear = classifier_linear.predict(test_vectors)\n",
    "    \n",
    "    # Perform classification with SVM, kernel=linear\n",
    "    classifier_liblinear = svm.LinearSVC()\n",
    "    classifier_liblinear.fit(train_vectors, rotulos_ind_np[train_index])\n",
    "    prediction_liblinear = classifier_liblinear.predict(test_vectors)\n",
    "    \n",
    "    # Print results in a nice table\n",
    "    print(\"Results for SVC(kernel=rbf)\")\n",
    "    print(classification_report(rotulos_ind_np[test_index], prediction_rbf, target_names=categories))\n",
    "    print(\"Results for SVC(kernel=linear)\")\n",
    "    print(classification_report(rotulos_ind_np[test_index], prediction_linear, target_names=categories))\n",
    "    print(\"Results for LinearSVC()\")\n",
    "    print(classification_report(rotulos_ind_np[test_index], prediction_liblinear, target_names=categories))\n",
    "        \n",
    "    print(\"%s: %.2f%%\" % (\"accuracy score\", accuracy_score(rotulos_ind_np[test_index], prediction_liblinear)*100))\n",
    "    cvscores.append(accuracy_score(rotulos_ind_np[test_index], prediction_liblinear)*100) \n",
    "    \n",
    "    \n",
    "    "
   ]
  },
  {
   "cell_type": "code",
   "execution_count": 295,
   "metadata": {},
   "outputs": [
    {
     "name": "stdout",
     "output_type": "stream",
     "text": [
      "99.22% (+/- 0.15%)\n"
     ]
    }
   ],
   "source": [
    "print(\"%.2f%% (+/- %.2f%%)\" % (np.mean(cvscores), np.std(cvscores)))"
   ]
  },
  {
   "cell_type": "code",
   "execution_count": 220,
   "metadata": {},
   "outputs": [
    {
     "name": "stdout",
     "output_type": "stream",
     "text": [
      "             precision    recall  f1-score   support\n",
      "\n",
      "    class 0       0.50      1.00      0.67         1\n",
      "    class 1       0.00      0.00      0.00         1\n",
      "    class 2       1.00      0.67      0.80         3\n",
      "\n",
      "avg / total       0.70      0.60      0.61         5\n",
      "\n"
     ]
    }
   ],
   "source": [
    "from sklearn.metrics import classification_report\n",
    "y_true = [0, 1, 2, 2, 2]\n",
    "y_pred = [0, 0, 2, 2, 1]\n",
    "target_names = ['class 0', 'class 1', 'class 2']\n",
    "x=classification_report(y_true, y_pred, target_names=target_names)\n",
    "print(x)\n",
    "\n"
   ]
  },
  {
   "cell_type": "code",
   "execution_count": 229,
   "metadata": {},
   "outputs": [
    {
     "name": "stdout",
     "output_type": "stream",
     "text": [
      "                      precision    recall  f1-score   support\n",
      "\n",
      "          Matematica       0.99      1.00      0.99       640\n",
      "              Fisica       1.00      1.00      1.00       464\n",
      "             Quimica       1.00      1.00      1.00       491\n",
      "            Biologia       1.00      1.00      1.00       479\n",
      "   Lingua_Portuguesa       0.99      1.00      1.00       444\n",
      "            Historia       0.97      0.98      0.97       155\n",
      "              Outros       0.96      0.95      0.96       133\n",
      "           Geografia       0.99      0.97      0.98        99\n",
      "      Lingua_Inglesa       1.00      1.00      1.00       105\n",
      "           Filosofia       1.00      0.98      0.99        62\n",
      "Ciencias da Natureza       0.98      0.88      0.93        50\n",
      "          Sociologia       1.00      1.00      1.00        61\n",
      "     Educacao_Fisica       1.00      0.95      0.97        40\n",
      "    Lingua_Espanhola       0.97      1.00      0.98        28\n",
      "                Arte       0.95      0.90      0.92        20\n",
      "\n",
      "         avg / total       0.99      0.99      0.99      3271\n",
      "\n"
     ]
    }
   ],
   "source": [
    "print classification_report(test_labels, prediction_liblinear, target_names=categories)"
   ]
  },
  {
   "cell_type": "code",
   "execution_count": 251,
   "metadata": {},
   "outputs": [
    {
     "name": "stdout",
     "output_type": "stream",
     "text": [
      "0.992038058306\n"
     ]
    }
   ],
   "source": [
    "from sklearn.metrics import precision_recall_fscore_support\n",
    "print precision_recall_fscore_support(test_labels, prediction_liblinear,average='weighted')[0]"
   ]
  },
  {
   "cell_type": "code",
   "execution_count": 254,
   "metadata": {},
   "outputs": [
    {
     "data": {
      "text/plain": [
       "0.99205136044023234"
      ]
     },
     "execution_count": 254,
     "metadata": {},
     "output_type": "execute_result"
    }
   ],
   "source": [
    "from sklearn.metrics import accuracy_score\n",
    "accuracy_score(test_labels, prediction_liblinear)"
   ]
  },
  {
   "cell_type": "code",
   "execution_count": 255,
   "metadata": {},
   "outputs": [
    {
     "name": "stdout",
     "output_type": "stream",
     "text": [
      "[ 0.98916409  0.99784483  1.          0.99791667  0.99327354  0.96815287\n",
      "  0.96212121  0.98969072  1.          1.          0.97777778  1.          1.\n",
      "  0.96551724  0.94736842]\n"
     ]
    }
   ],
   "source": [
    "print precision_recall_fscore_support(test_labels, prediction_liblinear)[0]"
   ]
  },
  {
   "cell_type": "code",
   "execution_count": 257,
   "metadata": {},
   "outputs": [
    {
     "name": "stdout",
     "output_type": "stream",
     "text": [
      "0.99205136044\n"
     ]
    }
   ],
   "source": [
    "print precision_recall_fscore_support(test_labels, prediction_liblinear,average='micro')[0]"
   ]
  },
  {
   "cell_type": "code",
   "execution_count": 258,
   "metadata": {},
   "outputs": [
    {
     "name": "stdout",
     "output_type": "stream",
     "text": [
      "accuracy score: 99.21%\n"
     ]
    }
   ],
   "source": [
    "    print(\"%s: %.2f%%\" % (\"accuracy score\", accuracy_score(test_labels, prediction_liblinear)*100))"
   ]
  },
  {
   "cell_type": "code",
   "execution_count": null,
   "metadata": {},
   "outputs": [],
   "source": []
  },
  {
   "cell_type": "markdown",
   "metadata": {},
   "source": [
    "# Criando novo corpus com o classificador\n",
    "## classificando a categoria que ainda não existe e salvando - são 7927 - apenas para o português"
   ]
  },
  {
   "cell_type": "code",
   "execution_count": 355,
   "metadata": {},
   "outputs": [
    {
     "name": "stdout",
     "output_type": "stream",
     "text": [
      "\n",
      " ===> Cont 1\n",
      "\"\n",
      "titulo=Bicicletas / Bicycles - Poster 3\n",
      "formatoMat=Imagem\n",
      "componente=Componente curricular nao identificado\n",
      "etapas=Etapas de ensino nao identificado\n",
      "descricao=Auxiliar no estudo sobre a importância de se reduzir a emissão de gases poluentes na atmosfera substituindo o automóveis por bicicletas\n",
      "autorUpload=Desconhecido\n",
      "autorMaterial=Valdinei Calvento\n",
      "tag=[]\n",
      "formatoComp=image/jpeg\"\n",
      "\n",
      "4 Quimica\n",
      "\n",
      " ===> Cont 2\n",
      "\"\n",
      "titulo=Buteno\n",
      "formatoMat=Imagem\n",
      "componente=Componente curricular nao identificado\n",
      "etapas=Etapas de ensino nao identificado\n",
      "descricao=Demontrar a estrutura de uma molécula de Buteno\n",
      "autorUpload=Desconhecido\n",
      "autorMaterial=João Paiva\n",
      "tag=[]\n",
      "formatoComp=image/jpeg\"\n",
      "\n",
      "5 Biologia\n",
      "\n",
      " ===> Cont 3\n",
      "\"\n",
      "titulo=O futuro é agora - Episódio XIII - Capítulo I - O texto impresso e o virtual\n",
      "formatoMat=Vídeo\n",
      "componente=Componente curricular nao identificado\n",
      "etapas=Etapas de ensino nao identificado\n",
      "descricao=Este capítulo tem como objetivo específico reconhecer os recursos de escrita e adequação da linguagem no texto impresso e no meio virtual\n",
      "autorUpload=Desconhecido\n",
      "autorMaterial=Andreia Turolo da Silva <VIRGULA> Bernardete Biasi Rodrigues <VIRGULA> Cibele Bernardino Gadelha <VIRGULA> Instituto Atlântico - Faculdade Integrada Grande Fortaleza (FGF) <VIRGULA> Projeto Condigital MEC - MCT\n",
      "tag=[]\n",
      "formatoComp=application/zip\"\n",
      "\n",
      "6 Lingua_Portuguesa\n",
      "\n",
      " ===> Cont 4\n",
      "\"\n",
      "titulo=Tutorial Photoshop CC : Criando um efeito de desenho realista em um retrato\n",
      "formatoMat=Vídeo\n",
      "componente=Componente curricular nao identificado\n",
      "etapas=Etapas de ensino nao identificado\n",
      "descricao=Aprender a transformar uma foto num desenho realista\n",
      "autorUpload=Desconhecido\n",
      "autorMaterial=MRCcursos\n",
      "tag=[]\n",
      "formatoComp=video/x-flv\"\n",
      "\n",
      "2 Matematica\n",
      "\n",
      " ===> Cont 5\n",
      "\"\n",
      "titulo=Pólipos de coral\n",
      "formatoMat=Imagem\n",
      "componente=Componente curricular nao identificado\n",
      "etapas=Etapas de ensino nao identificado\n",
      "descricao=A imagem mostra os pólipos de coral, que são aglomerados de animais marinhos junto a medusas e anêmonas. Os corais constituem colônias coloridas e crescem de forma espantosa nos mares, podendo formar recifes de grandes dimensões que albergam um ecossistema com uma biodiversidade e produtividade extraordinárias. Capturam plâncton (plantas e animais microscópicos) e outras partículas suspensas como alimentos. Os recifes de coral são formados por colônias de \\duro\\\" de corais que secretam exoesqueletos calcários, dando-lhes a rigidez estrutural\"\n",
      "autorUpload=Desconhecido\n",
      "autorMaterial=U.S. Geological Survey\n",
      "tag=[]\n",
      "formatoComp=image/jpeg\"\n",
      "\n",
      "5 Biologia\n",
      "\n",
      " ===> Cont 6\n",
      "\"\n",
      "titulo=Inscrição e Circunscrição\n",
      "formatoMat=Animação/simulação\n",
      "componente=Componente curricular nao identificado\n",
      "etapas=Etapas de ensino nao identificado\n",
      "descricao=Explorar a inscrição e a circunscrição de polígonos em uma circunferência\n",
      "autorUpload=Desconhecido\n",
      "autorMaterial=Universidade Cruzeiro do Sul CONDIGITAL\n",
      "tag=[]\n",
      "formatoComp=application/zip\"\n",
      "\n",
      "2 Matematica\n",
      "\n",
      " ===> Cont 7\n",
      "\"\n",
      "titulo=Bracatinga\n",
      "formatoMat=Imagem\n",
      "componente=Componente curricular nao identificado\n",
      "etapas=Etapas de ensino nao identificado\n",
      "descricao=Acrescentar ao aluno informações acerca de uma espécie de árvore bastante utilizada no Brasil\n",
      "autorUpload=Desconhecido\n",
      "autorMaterial=Webbee\n",
      "tag=[]\n",
      "formatoComp=image/jpeg\"\n",
      "\n",
      "5 Biologia\n",
      "\n",
      " ===> Cont 8\n",
      "\"\n",
      "titulo=Protocolo: experimentos com água - experiência 2\n",
      "formatoMat=Experimento prático\n",
      "componente=Componente curricular nao identificado\n",
      "etapas=Etapas de ensino nao identificado\n",
      "descricao=Demonstrar como ocorre o processo de ebulição\n",
      "autorUpload=Desconhecido\n",
      "autorMaterial=Adélia Freixial\n",
      "tag=[]\n",
      "formatoComp=application/msword\"\n",
      "\n",
      "4 Quimica\n",
      "\n",
      " ===> Cont 9\n",
      "\"\n",
      "titulo=Mudança de fase\n",
      "formatoMat=Experimento prático\n",
      "componente=Componente curricular nao identificado\n",
      "etapas=Etapas de ensino nao identificado\n",
      "descricao=&Eacute; necessário ter instalado no computador o programa Adobe Reader\n",
      "autorUpload=Desconhecido\n",
      "autorMaterial=Elso Drigo Filho <VIRGULA> José Roberto Ruggiero\n",
      "tag=[]\n",
      "formatoComp=application/pdf\"\n",
      "\n",
      "2 Matematica\n",
      "\n",
      " ===> Cont 10\n",
      "\"\n",
      "titulo=Prisma de água\n",
      "formatoMat=Experimento prático\n",
      "componente=Componente curricular nao identificado\n",
      "etapas=Etapas de ensino nao identificado\n",
      "descricao=Experimento prático que permite ao aluno entender a decomposição da luz utilizando como prisma uma bacia de água. A luz passa através da água é refletida em um espelho para depois ser decomposta novamente no prisma\n",
      "autorUpload=Desconhecido\n",
      "autorMaterial=Alejandra León Castellá\n",
      "tag=[]\n",
      "formatoComp=application/pdf\"\n",
      "\n",
      "3 Fisica\n",
      "\n",
      " ===> Cont 11\n",
      "\"\n",
      "titulo=Ressonância na garrafa: parte 1: experimento prático\n",
      "formatoMat=Experimento prático\n",
      "componente=Componente curricular nao identificado\n",
      "etapas=Etapas de ensino nao identificado\n",
      "descricao=Mostrar como são formadas ondas estacionárias no interior de um tubo fechado\n",
      "autorUpload=Desconhecido\n",
      "autorMaterial=Lucas Assis\n",
      "tag=[]\n",
      "formatoComp=application/pdf\"\n",
      "\n",
      "3 Fisica\n",
      "\n",
      " ===> Cont 12\n",
      "\"\n",
      "titulo=Podemos construir - atividade 1: Podemos construir um ludião?\n",
      "formatoMat=Experimento prático\n",
      "componente=Componente curricular nao identificado\n",
      "etapas=Etapas de ensino nao identificado\n",
      "descricao=Experimento simples, com a utilização de materiais de baixo custo e de fácil obtenção\n",
      "autorUpload=Desconhecido\n",
      "autorMaterial=Evandro Ferreira Passos\n",
      "tag=[]\n",
      "formatoComp=application/pdf\"\n",
      "\n",
      "2 Matematica\n",
      "\n",
      " ===> Cont 13\n",
      "\"\n",
      "titulo=Formando um precipitado: parte 2: vídeo\n",
      "formatoMat=Vídeo\n",
      "componente=Componente curricular nao identificado\n",
      "etapas=Etapas de ensino nao identificado\n",
      "descricao=Duração de 2:15 minutos. Este vídeo complementa o experimento prático \\Formando um precipitado: parte 1: experimento prático\\\"\"\n",
      "autorUpload=Desconhecido\n",
      "autorMaterial=Leandro Fantini\n",
      "tag=[]\n",
      "formatoComp=video/mp4\"\n",
      "\n",
      "4 Quimica\n",
      "\n",
      " ===> Cont 14\n",
      "\"\n",
      "titulo=Coração de anfíbio: vista dorsal\n",
      "formatoMat=Imagem\n",
      "componente=Componente curricular nao identificado\n",
      "etapas=Etapas de ensino nao identificado\n",
      "descricao=Apresenta a vista dorsal do coração de anuro evidenciando o ventrículo, átrios, seio venoso e as veias associadas ao coração, como as veias pós-cava, pré-cava e veias pulmonares\n",
      "autorUpload=Desconhecido\n",
      "autorMaterial=Antonio Sebben\n",
      "tag=[]\n",
      "formatoComp=image/jpeg\"\n",
      "\n",
      "5 Biologia\n",
      "\n",
      " ===> Cont 15\n",
      "\"\n",
      "titulo=Estados quânticos\n",
      "formatoMat=Animação/simulação\n",
      "componente=Componente curricular nao identificado\n",
      "etapas=Etapas de ensino nao identificado\n",
      "descricao=Aprender as propriedades de \\partículas quânticas\\\" em poço de potencial\"\n",
      "autorUpload=University of Colorado at Boulder <VIRGULA> Physics Education Technology (PhET)\n",
      "autorMaterial=Carl Wieman <VIRGULA> Chris Malley <VIRGULA> Kathy Perkins <VIRGULA> Sam McKagan\n",
      "tag=[]\n",
      "formatoComp=application/octet-stream\"\n",
      "\n",
      "3 Fisica\n",
      "\n",
      " ===> Cont 16\n",
      "\"\n",
      "titulo=Exercícios de datilologia\n",
      "formatoMat=Experimento prático\n",
      "componente=Componente curricular nao identificado\n",
      "etapas=Etapas de ensino nao identificado\n",
      "descricao=Ensinar o alfabeto em LIBRAS e testar os conhecimentos já adquiridos em datilologia\n",
      "autorUpload=Desconhecido\n",
      "autorMaterial=Cláudio Ramalho\n",
      "tag=[]\n",
      "formatoComp=application/pdf\"\n",
      "\n",
      "2 Matematica\n",
      "\n",
      " ===> Cont 17\n",
      "\"\n",
      "titulo=Paracetamol\n",
      "formatoMat=Imagem\n",
      "componente=Componente curricular nao identificado\n",
      "etapas=Etapas de ensino nao identificado\n",
      "descricao=A imagem mostra a estrutura química do paracetamol ou acetaminofeno, um fármaco que é amplamente utilizado atualmente\n",
      "autorUpload=Desconhecido\n",
      "autorMaterial=Alfredo Mateus\n",
      "tag=[]\n",
      "formatoComp=image/jpeg\"\n",
      "\n",
      "4 Quimica\n",
      "\n",
      " ===> Cont 18\n",
      "\"\n",
      "titulo=Respostas curtas\n",
      "formatoMat=Software Educacional\n",
      "componente=Componente curricular nao identificado\n",
      "etapas=Etapas de ensino nao identificado\n",
      "descricao=Aprender como dar respostas curtas em inglês\n",
      "autorUpload=Desconhecido\n",
      "autorMaterial=Maria Jesús Bernabeu\n",
      "tag=[]\n",
      "formatoComp=application/zip\"\n",
      "\n",
      "10 Lingua_Inglesa\n",
      "\n",
      " ===> Cont 19\n",
      "\"\n",
      "titulo=Mudanças Climáticas\n",
      "formatoMat=Vídeo\n",
      "componente=Componente curricular nao identificado\n",
      "etapas=Etapas de ensino nao identificado\n",
      "descricao=Ensinar aos alunos que as Mudanças Climáticas são fenômenos naturais, porém vem sendo intensificado pelas ações humanas\n",
      "autorUpload=Desconhecido\n",
      "autorMaterial=Fundação O Boticário\n",
      "tag=[]\n",
      "formatoComp=video/x-flv\"\n",
      "\n",
      "5 Biologia\n",
      "\n",
      " ===> Cont 20\n",
      "\"\n",
      "titulo=Pilhas eletroquímicas\n",
      "formatoMat=Experimento prático\n",
      "componente=Componente curricular nao identificado\n",
      "etapas=Etapas de ensino nao identificado\n",
      "descricao=Contempla os seguintes acessos e funções: 1- Contexto, 2- Desafio, 3- Produção de Conhecimento, 4- Animação digital, 5- Material, 6- Referencial Teórico, 7- Documentos\n",
      "autorUpload=Desconhecido\n",
      "autorMaterial=Cassiano Zeferino de Carvalho Neto <VIRGULA> Instituto Galileo Galilei para a Educação (IGGE) <VIRGULA> Maria Taís de Melo <VIRGULA> Noriyasu Omote <VIRGULA> Projeto Condigital MEC - MCT\n",
      "tag=[]\n",
      "formatoComp=application/zip\"\n",
      "\n",
      "3 Fisica\n",
      "\n",
      " ===> Cont 21\n",
      "\"\n",
      "titulo=Eletrólise e banho de metais\n",
      "formatoMat=Experimento prático\n",
      "componente=Componente curricular nao identificado\n",
      "etapas=Etapas de ensino nao identificado\n",
      "descricao=Demonstrar aos alunos a técnica de galvanoplastia, utilizado industrialmente para proteger peças de aços da corrosão\n",
      "autorUpload=Desconhecido\n",
      "autorMaterial=Portal Educarede\n",
      "tag=[]\n",
      "formatoComp=application/pdf\"\n",
      "\n",
      "4 Quimica\n",
      "\n",
      " ===> Cont 22\n",
      "\"\n",
      "titulo=Matemática na comunicação [Matématica em toda parte]\n",
      "formatoMat=Vídeo\n",
      "componente=Componente curricular nao identificado\n",
      "etapas=Etapas de ensino nao identificado\n",
      "descricao=Apresenta episódio do programa matemática em toda parte, da TV Escola. Nesse episódio são apresentadas situaçãoes em que os números e os símbolos matemáticos podem se relacionar com a comunicação, destacando a matemática como uma linguagem que transmite informações através dos códigos (símbolos matemáticos) assim como qualquer outra linguagem\n",
      "autorUpload=TV Escola\n",
      "autorMaterial=Antônio José Lopes\n",
      "tag=[]\n",
      "formatoComp=video/mp4\"\n",
      "\n",
      "2 Matematica\n",
      "\n",
      " ===> Cont 23\n",
      "\"\n",
      "titulo=Sistema solar\n",
      "formatoMat=Animação/simulação\n",
      "componente=Componente curricular nao identificado\n",
      "etapas=Etapas de ensino nao identificado\n",
      "descricao=A composição de planetas que foi usada para a montagem desse objeto está baseada na atualmente aceita. É interessante o professor comentar com os alunos (ou até mostrar alguma matéria em jornal, revista ou internet) sobre as novas configurações do sistema solar que estão sendo discutidas por astrônomos. É importante, também, o professor lembrar aos alunos que é uma simulação de viagem ao espaço, e que foram desprezadas as distâncias reais entre os planetas. Para visualizar esse recurso é necessário instalar o Flash Player. Disponível em: <http://www.adobe.com/shockwave/download/download.cgi?P1_Prod_Version=ShockwaveFlash&Lang=BrazilianPortuguese>\n",
      "autorUpload=Desconhecido\n",
      "autorMaterial=Larah Carolina Vidotti Sarmento da Silva\n",
      "tag=[]\n",
      "formatoComp=application/zip\"\n",
      "\n",
      "2 Matematica\n",
      "\n",
      " ===> Cont 24\n",
      "\"\n",
      "titulo=Incentivo à pesquisa: parte 2 [Como fazer? A escola]\n",
      "formatoMat=Vídeo\n",
      "componente=Componente curricular nao identificado\n",
      "etapas=Etapas de ensino nao identificado\n",
      "descricao=Duração: 18 min, 32 s\n",
      "autorUpload=Portal Domínio Público\n",
      "autorMaterial=Brasil. Ministério da Educação (MEC)\n",
      "tag=[]\n",
      "formatoComp=application/vnd.ms-asf\"\n",
      "\n",
      "14 Educacao_Fisica\n",
      "\n",
      " ===> Cont 25\n",
      "\"\n",
      "titulo=Controle da nave espacial\n",
      "formatoMat=Animação/simulação\n",
      "componente=Componente curricular nao identificado\n",
      "etapas=Etapas de ensino nao identificado\n",
      "descricao=Analisar a influência da força aplicada sobre um corpo para diferentes valores para o coeficiente de atrito\n",
      "autorUpload=Desconhecido\n",
      "autorMaterial=Diego Vaz Bevilaqua <VIRGULA> Geraldo Felipe de Souza Filho <VIRGULA> Marta Feijó Barroso\n",
      "tag=[]\n",
      "formatoComp=application/vnd.adobe.flash.movie\"\n",
      "\n",
      "3 Fisica\n",
      "\n",
      " ===> Cont 26\n",
      "\"\n",
      "titulo=Os Curiosos – Termodinâmica\n",
      "formatoMat=Vídeo\n",
      "componente=Componente curricular nao identificado\n",
      "etapas=Etapas de ensino nao identificado\n",
      "descricao=Compreender a relação entre energia mecânica e calor; Explicar os princípios básicos de funcionamento de um refrigerador; Compreender os princípios fundamentais da termodinâmica\n",
      "autorUpload=Desconhecido\n",
      "autorMaterial=Projeto Acessa Física - Instituto Brasileiro de Educação e Tecnologia de Formação a Distância - IBTF <VIRGULA> Projeto Condigital MEC – MCT\n",
      "tag=[]\n",
      "formatoComp=application/zip\"\n",
      "\n",
      "3 Fisica\n",
      "\n",
      " ===> Cont 27\n",
      "\"\n",
      "titulo=Cadeia Alimentar\n",
      "formatoMat=Vídeo\n",
      "componente=Componente curricular nao identificado\n",
      "etapas=Etapas de ensino nao identificado\n",
      "descricao=Conhecimentos de informática básica e disponibilidade de sistema de áudio\n",
      "autorUpload=Desconhecido\n",
      "autorMaterial=Dorival Filho\n",
      "tag=[]\n",
      "formatoComp=video/x-flv\"\n",
      "\n",
      "5 Biologia\n",
      "\n",
      " ===> Cont 28\n",
      "\"\n",
      "titulo=Filogenia\n",
      "formatoMat=Animação/simulação\n",
      "componente=Componente curricular nao identificado\n",
      "etapas=Etapas de ensino nao identificado\n",
      "descricao=A animação apresenta conceitos de filogenia\n",
      "autorUpload=Desconhecido\n",
      "autorMaterial=CEDERJ\n",
      "tag=[]\n",
      "formatoComp=application/vnd.adobe.flash.movie\"\n",
      "\n",
      "2 Matematica\n",
      "\n",
      " ===> Cont 29\n",
      "\"\n",
      "titulo=Controle ao tabagismo: parte 2 [Dia Mundial Sem Tabaco: Juventude Livre do Tabaco]\n",
      "formatoMat=Vídeo\n",
      "componente=Componente curricular nao identificado\n",
      "etapas=Etapas de ensino nao identificado\n",
      "descricao=Disseminar a campanha de controle ao tabagismo, principalmente entre as crianças e os jovens\n",
      "autorUpload=Portal Domínio Público\n",
      "autorMaterial=Brasil. Ministério da Educação (MEC)\n",
      "tag=[]\n",
      "formatoComp=application/vnd.ms-asf\"\n",
      "\n",
      "8 Outros\n",
      "\n",
      " ===> Cont 30\n",
      "\"\n",
      "titulo=Os estóicos\n",
      "formatoMat=Vídeo\n",
      "componente=Componente curricular nao identificado\n",
      "etapas=Etapas de ensino nao identificado\n",
      "descricao=Apresenta vídeo sobre o estoicismo, corrente filosófica caracterizada pela fortaleza de ânimo e austeridade, mantendo uma atitude de impassividade, insensibilidade e impertubabilidade em relação à vida e às outras pessoas. O vídeo também explica como surgiu a escola estóica, e quais os princípios, a física e a lógica do estoicismo\n",
      "autorUpload=Desconhecido\n",
      "autorMaterial=Gilson Xavier Azevedo\n",
      "tag=[]\n",
      "formatoComp=application/vnd.ms-asf\"\n",
      "\n",
      "3 Fisica\n",
      "\n",
      " ===> Cont 31\n",
      "\"\n",
      "titulo=A viagem de Kemi - Classificação e nomeclatura de ácidos<VIRGULA> bases<VIRGULA> sais e óxidos - Sais e óxidos – onde estão?\n",
      "formatoMat=Vídeo\n",
      "componente=Componente curricular nao identificado\n",
      "etapas=Etapas de ensino nao identificado\n",
      "descricao=Conceito, nomenclatura, cuidados, exemplos e aplicações cotidianas de sais e óxidos\n",
      "autorUpload=Desconhecido\n",
      "autorMaterial=Lia Weigert Bressan <VIRGULA> Luis Felipe Nascimento <VIRGULA> Marilaine Castro da Costa <VIRGULA> Marta Tocchetto <VIRGULA> Nádia Schneider Viaro <VIRGULA> Paulo Nascimento <VIRGULA> Projeto Condigital MEC - MCT <VIRGULA> Universidade Federal de Santa Maria - UFSM\n",
      "tag=[]\n",
      "formatoComp=application/zip\"\n",
      "\n",
      "4 Quimica\n",
      "\n",
      " ===> Cont 32\n",
      "\"\n",
      "titulo=Qual é a palavra? As funções vitais básicas\n",
      "formatoMat=Animação/simulação\n",
      "componente=Componente curricular nao identificado\n",
      "etapas=Etapas de ensino nao identificado\n",
      "descricao=Este material faz parte de uma série de conteúdos digitais voltados ao ensino de Biologia, produzidos pelo Projeto EMBRIAO, da Universidade Estadual de Campinas com recursos do FNDE, MCT e MEC\n",
      "autorUpload=Desconhecido\n",
      "autorMaterial=Carlos Eduardo Santoro <VIRGULA> Eduardo Galembeck <VIRGULA> Izabel Ribeiro Filippi <VIRGULA> Projeto Condigital MEC - MCT <VIRGULA> Universidade Estadual de Campinas - Unicamp - Biologia\n",
      "tag=[]\n",
      "formatoComp=application/zip\"\n",
      "\n",
      "5 Biologia\n",
      "\n",
      " ===> Cont 33\n",
      "\"\n",
      "titulo=“Hora do Debate”<VIRGULA> Campanhas de prevenção contra DSTs: Linguagem em alerta - “A língua<VIRGULA> a ciência e a produção de efeitos de verdade” - bloco 1\n",
      "formatoMat=Áudio\n",
      "componente=Componente curricular nao identificado\n",
      "etapas=Etapas de ensino nao identificado\n",
      "descricao=Os conteúdos desenvolvidos neste recurso estão relacionados com o conjunto dos assuntos abordados nas atividades do site educacional correspondentes ao episódio 1 - “A língua, a ciência e a produção de efeitos de verdade” do programa de áudio “Hora do Debate”, cuja relação aparece a seguir, razão pela qual recomenda-se trabalhar com os alunos também esses softwares educacionais. 1-Ciência, mídia e sociedade (escolha léxical, temporalidade) 2-Lendo textos de Divulgação Científica (aspas, expressões que introduzem reformulações, como “ou seja” e citações como “conforme diz X, analogias e metáforas) 3-Interpretando textos polêmicos (negação, inversão, topicalização) 4-Tabu e eufemismos na linguagem (elipse, léxico, eufemismos) 5-Condições de produção e interpretação de texto (paráfrases e versões de um tema em diferentes momentos históricos) 6-Modos de dizer e seus efeitos de verdade (modos verbais, advérbios de modo, orações impessoais e passivas, verbos de opinião e reforçadores como “é isso mesmo”)\n",
      "autorUpload=Desconhecido\n",
      "autorMaterial=Heloísa Rutschmann Fonsechi <VIRGULA> Leandro Rodrigues Alves Diniz <VIRGULA> Mônica Graciela Zoppi Fontana <VIRGULA> Projeto Condigital MEC - MCT <VIRGULA> Universidade Estadual de Campinas - Unicamp - Português\n",
      "tag=[]\n",
      "formatoComp=application/zip\"\n",
      "\n",
      "6 Lingua_Portuguesa\n",
      "\n",
      " ===> Cont 34\n",
      "\"\n",
      "titulo=Consórcio de empresas - Tributação\n",
      "formatoMat=Vídeo\n",
      "componente=Componente curricular nao identificado\n",
      "etapas=Etapas de ensino nao identificado\n",
      "descricao=Evidenciar como é feita a tributação em consórcio de empresas\n",
      "autorUpload=Desconhecido\n",
      "autorMaterial=Sevilha Contabilidade <VIRGULA> Vicente Sevilha Junior\n",
      "tag=[]\n",
      "formatoComp=application/vnd.ms-asf\"\n",
      "\n",
      "2 Matematica\n",
      "\n",
      " ===> Cont 35\n",
      "\"\n",
      "titulo=Você Sabia?Guardiões da Biosfera - Pantanal - Maior Felino\n",
      "formatoMat=Vídeo\n",
      "componente=Componente curricular nao identificado\n",
      "etapas=Etapas de ensino nao identificado\n",
      "descricao=Apresentar conceitos fundamentais como biosfera, bioma, ecossistema, ecologia, biodiversidade e desenvolvimento sustentável\n",
      "autorUpload=Desconhecido\n",
      "autorMaterial=Enjoy Arts <VIRGULA> Magma Cultural\n",
      "tag=[]\n",
      "formatoComp=application/zip\"\n",
      "\n",
      "5 Biologia\n",
      "\n",
      " ===> Cont 36\n",
      "\"\n",
      "titulo=Joaninha teimosa\n",
      "formatoMat=Vídeo\n",
      "componente=Componente curricular nao identificado\n",
      "etapas=Etapas de ensino nao identificado\n",
      "descricao=Demonstrar as condições necessárias para que um objeto fique em equilíbrio\n",
      "autorUpload=Desconhecido\n",
      "autorMaterial=Projeto Brinca Ciência\n",
      "tag=[]\n",
      "formatoComp=application/vnd.ms-asf\"\n",
      "\n",
      "4 Quimica\n",
      "\n",
      " ===> Cont 37\n",
      "\"\n",
      "titulo=Prosa e poesia - Episódio VII - Capítulo III - Bloco 1 - O conto no romantismo e no realismo\n",
      "formatoMat=Áudio\n",
      "componente=Componente curricular nao identificado\n",
      "etapas=Etapas de ensino nao identificado\n",
      "descricao=Este áudio, bloco A, tem duração de cerca de dez minutos, dividido em dois blocos de aproximadamente cinco minutos cada, e é acompanhado de Guia do Professor com Suporte Teórico e Suporte Pedagógico em PDF\n",
      "autorUpload=Desconhecido\n",
      "autorMaterial=Andreia Turolo da Silva <VIRGULA> Bernardete Biasi Rodrigues <VIRGULA> Cibele Gadelha Bernardino <VIRGULA> Fátima Souza <VIRGULA> Instituto Atlântico - Faculdade Integrada Grande Fortaleza (FGF) <VIRGULA> Larissa Pereira de Almeida <VIRGULA> Projeto Condigital MEC - MCT\n",
      "tag=[]\n",
      "formatoComp=application/zip\"\n",
      "\n",
      "6 Lingua_Portuguesa\n",
      "\n",
      " ===> Cont 38\n",
      "\"\n",
      "titulo=Plantas bioindicadoras\n",
      "formatoMat=Áudio\n",
      "componente=Componente curricular nao identificado\n",
      "etapas=Etapas de ensino nao identificado\n",
      "descricao=Duração: 02:17 minutos. Recurso produzido com apoio da Fundação de Apoio à Pesquisa do Estado de Minas Gerais (FAPEMIG) e do Conselho Nacional de Desenvolvimento Científico e Tecnológico (CNPQ ), com colaboração de professores do Departamento de Botânica da UFMG\n",
      "autorUpload=Desconhecido\n",
      "autorMaterial=Adlane Vilas Boas\n",
      "tag=[]\n",
      "formatoComp=audio/mpeg\"\n",
      "\n",
      "5 Biologia\n",
      "\n",
      " ===> Cont 39\n",
      "\"\n",
      "titulo=Conhecendo a história do Acre\n",
      "formatoMat=Áudio\n",
      "componente=Componente curricular nao identificado\n",
      "etapas=Etapas de ensino nao identificado\n",
      "descricao=Apresenta episódio do Programa Escola Brasil em que é abordada a história do Estado do Acre. O historiador entrevistado, Marcos Vinícius Neves, explica como o Acre deixou de fazer parte da Bolívia e tornou-se parte do território brasileiro. Apresenta-se a banda acreana \\Los Porongas\\\". Em outro momento, é explicado os procedimentos do exame supletivo. Durante uma jornada no sul do Pará, o município de Pirraça é vistado e aborda-se sua cultura, população e sistema educacional. A paleontologia é abordada e explicada, bem como o trabalho dos paleontólogos. É citado o Dia Mundial de Conscientização Contra a Violência aos Idosos\"\n",
      "autorUpload=Portal Domínio Público\n",
      "autorMaterial=Brasil. Ministério da Educação (MEC). Secretaria de Educação a Distância (SEED)\n",
      "tag=[]\n",
      "formatoComp=audio/mpeg\"\n",
      "\n",
      "7 Historia\n",
      "\n",
      " ===> Cont 40\n",
      "\"\n",
      "titulo=A descoberta do conto: a casa: parte 1 [Categorias Literárias]\n",
      "formatoMat=Áudio\n",
      "componente=Componente curricular nao identificado\n",
      "etapas=Etapas de ensino nao identificado\n",
      "descricao=Despertar o interesse pela leitura. Propor leitura e produção de outros gêneros textuais. Sugerir atividades que envolvam os aspectos gramaticais\n",
      "autorUpload=Desconhecido\n",
      "autorMaterial=Ana Paula Leite de Camargo <VIRGULA> Isabel Pereira dos Santos\n",
      "tag=[]\n",
      "formatoComp=audio/mpeg\"\n",
      "\n",
      "6 Lingua_Portuguesa\n",
      "\n",
      " ===> Cont 41\n",
      "\"\n",
      "titulo=Sundae polimérico: parte 2: vídeo\n",
      "formatoMat=Vídeo\n",
      "componente=Componente curricular nao identificado\n",
      "etapas=Etapas de ensino nao identificado\n",
      "descricao=Duração do vídeo 2:06 minutos. Este vídeo complementa o experimento \\Sundae polimérico: parte 1: experimento prático\\\"\"\n",
      "autorUpload=Desconhecido\n",
      "autorMaterial=Leandro Fantini\n",
      "tag=[]\n",
      "formatoComp=video/x-flv\"\n",
      "\n",
      "4 Quimica\n"
     ]
    }
   ],
   "source": [
    "corpus_not_classification = open(\"13jun_vector_NOT_CLASS.csv\")\n",
    "dados_nao_classificados=[]\n",
    "linha=corpus_not_classification.readline()\n",
    "while(linha!=\"\"):\n",
    "    dados_nao_classificados.append(linha)\n",
    "    linha=corpus_not_classification.readline()\n",
    "    \n",
    "X_new_tfidf = vectorizer.transform(dados_nao_classificados)\n",
    "predicted = classifier_liblinear.predict(X_new_tfidf)\n",
    "\n",
    "cont=1\n",
    "for doc, category in zip(dados_nao_classificados, predicted):\n",
    "#    print('%r => %s %s' % (doc, category, categories[category-2]))\n",
    "    print \"\\n ===> Cont\",cont\n",
    "    for i in doc.split(\"@\"):\n",
    "        print i\n",
    "    print category, categories[category-2]\n",
    "    if cont>40:\n",
    "        break\n",
    "    cont+=1\n"
   ]
  },
  {
   "cell_type": "code",
   "execution_count": 328,
   "metadata": {},
   "outputs": [
    {
     "data": {
      "text/plain": [
       "'Quimica'"
      ]
     },
     "execution_count": 328,
     "metadata": {},
     "output_type": "execute_result"
    }
   ],
   "source": [
    "categories[4-2]"
   ]
  },
  {
   "cell_type": "code",
   "execution_count": null,
   "metadata": {},
   "outputs": [],
   "source": []
  },
  {
   "cell_type": "code",
   "execution_count": 338,
   "metadata": {},
   "outputs": [
    {
     "name": "stdout",
     "output_type": "stream",
     "text": [
      "[[639   0   0   0   0   0   0   0   0   0   0   0   0   0   1]\n",
      " [  0 463   0   0   0   1   0   0   0   0   0   0   0   0   0]\n",
      " [  0   0 491   0   0   0   0   0   0   0   0   0   0   0   0]\n",
      " [  0   0   0 479   0   0   0   0   0   0   0   0   0   0   0]\n",
      " [  1   0   0   0 443   0   0   0   0   0   0   0   0   0   0]\n",
      " [  0   0   0   0   1 152   1   0   0   0   1   0   0   0   0]\n",
      " [  2   0   0   0   2   2 127   0   0   0   0   0   0   0   0]\n",
      " [  2   0   0   0   0   1   0  96   0   0   0   0   0   0   0]\n",
      " [  0   0   0   0   0   0   0   0 105   0   0   0   0   0   0]\n",
      " [  0   0   0   0   0   1   0   0   0  61   0   0   0   0   0]\n",
      " [  1   0   0   1   0   0   3   1   0   0  44   0   0   0   0]\n",
      " [  0   0   0   0   0   0   0   0   0   0   0  61   0   0   0]\n",
      " [  0   1   0   0   0   0   1   0   0   0   0   0  38   0   0]\n",
      " [  0   0   0   0   0   0   0   0   0   0   0   0   0  28   0]\n",
      " [  1   0   0   0   0   0   0   0   0   0   0   0   0   1  18]]\n"
     ]
    }
   ],
   "source": [
    "from sklearn import metrics\n",
    "print metrics.confusion_matrix(test_labels, prediction_liblinear)"
   ]
  },
  {
   "cell_type": "code",
   "execution_count": 347,
   "metadata": {},
   "outputs": [
    {
     "data": {
      "text/plain": [
       "'Mec\\xc3\\xa2nica - 2\\xc2\\xaa Lei de Newton: Aplica\\xc3\\xa7\\xc3\\xb5es@formatoMat=Anima\\xc3\\xa7\\xc3\\xa3o/simula\\xc3\\xa7\\xc3\\xa3o'"
      ]
     },
     "execution_count": 347,
     "metadata": {},
     "output_type": "execute_result"
    }
   ],
   "source": [
    "a='\"@titulo=Mec\\xc3\\xa2nica - 2\\xc2\\xaa Lei de Newton: Aplica\\xc3\\xa7\\xc3\\xb5es@formatoMat=Anima\\xc3\\xa7\\xc3\\xa3o/simula\\xc3\\xa7\\xc3\\xa3o@componente=Componente curricular nao identificado@etapas=Etapas de ensino nao identificado@descricao=Em teoria se fundamentam conceitos, com variados exemplos, contando com acessos a outras fontes selecionadas de informa\\xc3\\xa7\\xc3\\xa3o, v\\xc3\\xaddeos e recursos de imag\\xc3\\xa9tica, dirigidos para determinados endere\\xc3\\xa7os na web@autorUpload=Desconhecido@autorMaterial=Cassiano Zeferino de Carvalho Neto <VIRGULA> Instituto Galileo Galilei para a Educa\\xc3\\xa7\\xc3\\xa3o (IGGE) <VIRGULA> Jos\\xc3\\xa9 Maria Filardo Bassalo <VIRGULA> Jos\\xc3\\xa9 Silv\\xc3\\xa9rio Edmundo Germano <VIRGULA> Maria Ta\\xc3\\xads de Melo <VIRGULA> Projeto Condigital MEC \\xe2\\x80\\x93 MCT@tag=[]@formatoComp=application/zip\"\\n => 3 Fisica'\n",
    "a[a.index(\"@titulo=\")+len('@titulo='):a.index(\"@componente\")]"
   ]
  },
  {
   "cell_type": "code",
   "execution_count": 344,
   "metadata": {},
   "outputs": [
    {
     "data": {
      "text/plain": [
       "86"
      ]
     },
     "execution_count": 344,
     "metadata": {},
     "output_type": "execute_result"
    }
   ],
   "source": [
    "a[a.index(\"@componente\")+len('@componente'):a.index(\"@componente\")]"
   ]
  },
  {
   "cell_type": "code",
   "execution_count": 348,
   "metadata": {},
   "outputs": [
    {
     "name": "stdout",
     "output_type": "stream",
     "text": [
      "\"\n",
      "titulo=Mecânica - 2ª Lei de Newton: Aplicações\n",
      "formatoMat=Animação/simulação\n",
      "componente=Componente curricular nao identificado\n",
      "etapas=Etapas de ensino nao identificado\n",
      "descricao=Em teoria se fundamentam conceitos, com variados exemplos, contando com acessos a outras fontes selecionadas de informação, vídeos e recursos de imagética, dirigidos para determinados endereços na web\n",
      "autorUpload=Desconhecido\n",
      "autorMaterial=Cassiano Zeferino de Carvalho Neto <VIRGULA> Instituto Galileo Galilei para a Educação (IGGE) <VIRGULA> José Maria Filardo Bassalo <VIRGULA> José Silvério Edmundo Germano <VIRGULA> Maria Taís de Melo <VIRGULA> Projeto Condigital MEC – MCT\n",
      "tag=[]\n",
      "formatoComp=application/zip\"\n",
      " => 3 Fisica\n"
     ]
    }
   ],
   "source": [
    "for i in a.split(\"@\"):\n",
    "    print i"
   ]
  },
  {
   "cell_type": "code",
   "execution_count": null,
   "metadata": {},
   "outputs": [],
   "source": []
  }
 ],
 "metadata": {
  "kernelspec": {
   "display_name": "Python 2",
   "language": "python",
   "name": "python2"
  },
  "language_info": {
   "codemirror_mode": {
    "name": "ipython",
    "version": 2
   },
   "file_extension": ".py",
   "mimetype": "text/x-python",
   "name": "python",
   "nbconvert_exporter": "python",
   "pygments_lexer": "ipython2",
   "version": "2.7.13"
  }
 },
 "nbformat": 4,
 "nbformat_minor": 2
}
